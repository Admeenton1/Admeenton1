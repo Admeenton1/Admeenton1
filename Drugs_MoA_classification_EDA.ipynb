{
  "metadata": {
    "kernelspec": {
      "display_name": "Python 3",
      "name": "python3"
    },
    "language_info": {
      "pygments_lexer": "ipython3",
      "nbconvert_exporter": "python",
      "version": "3.6.4",
      "file_extension": ".py",
      "codemirror_mode": {
        "name": "ipython",
        "version": 3
      },
      "name": "python",
      "mimetype": "text/x-python"
    },
    "colab": {
      "name": "Drugs MoA classification: EDA",
      "provenance": [],
      "gpuType": "T4",
      "include_colab_link": true
    },
    "accelerator": "GPU"
  },
  "nbformat_minor": 0,
  "nbformat": 4,
  "cells": [
    {
      "cell_type": "markdown",
      "metadata": {
        "id": "view-in-github",
        "colab_type": "text"
      },
      "source": [
        "<a href=\"https://colab.research.google.com/github/Admeenton1/Admeenton1/blob/main/Drugs_MoA_classification_EDA.ipynb\" target=\"_parent\"><img src=\"https://colab.research.google.com/assets/colab-badge.svg\" alt=\"Open In Colab\"/></a>"
      ]
    },
    {
      "cell_type": "markdown",
      "source": [
        "# Mechanisms of Action (MoA) Prediction: EDA\n",
        "***\n",
        "\n",
        "\n",
        "### BLOG POST: [DRUG DISCOVERY WITH NEURAL NETWORKS](https://medium.com/swlh/drug-discovery-with-neural-networks-a6a68c76bb53?sk=dc332f724905461ac5a9b5060c62141d)\n",
        "\n",
        "\n",
        "\n",
        "![image1](https://miro.medium.com/max/700/1*AYJLRDxyO6MWGVSaP6Fm2w.png)<div align=\"center\">Image source: Blog Post</div>\n",
        "\n",
        "In this competition, we are suposed to develop algorithms and train models **to determine the mechanism of action of a new drug based on the gene expression and cell viability information.** In this EDA, we will try to find patterns in the data, interactions between the targets in both scored and nonscored datasets and the relationship between targets and their target genes.\n",
        "\n",
        "\n",
        "\n",
        "<div class=\"list-group\" id=\"list-tab\" role=\"tablist\">\n",
        "  <h3 class=\"list-group-item list-group-item-action active\" data-toggle=\"list\"  role=\"tab\" aria-controls=\"home\">PROJECT CONTENT</h3>\n",
        "    \n",
        "> ####  1- FEATURES OVERVIEW\n",
        "> ####  2- CELL VIABILITY FEATURES\n",
        "> ####  3. GENE EXPRESSION FEATURES\n",
        "> ####  4. TARGETS *(MoA)*\n",
        "    >> ##### 4.1 Scored targets\n",
        "    >> ##### 4.2 Non-Scored targets\n",
        "    >> ##### 4.3 Drug_ID\n",
        "\n",
        "> ####  5. TEST FEATURES"
      ],
      "metadata": {
        "id": "ZlGhStff-oBQ"
      }
    },
    {
      "cell_type": "code",
      "source": [
        "from google.colab import drive\n",
        "drive.mount('/content/drive')"
      ],
      "metadata": {
        "colab": {
          "base_uri": "https://localhost:8080/"
        },
        "id": "rmdUzl2aAM0V",
        "outputId": "af2fc407-9abc-4f8c-a746-09d6762479fa"
      },
      "execution_count": null,
      "outputs": [
        {
          "output_type": "stream",
          "name": "stdout",
          "text": [
            "Mounted at /content/drive\n"
          ]
        }
      ]
    },
    {
      "cell_type": "code",
      "source": [
        "import numpy as np # linear algebra\n",
        "import pandas as pd # data processing, CSV file I/O (e.g. pd.read_csv)\n",
        "import matplotlib.pyplot as plt\n",
        "import seaborn as sns\n",
        "############################################\n",
        "### DATASETS:\n",
        "\n",
        "a= pd.read_csv('/kaggle/input/lish-moa/train_features.csv')\n",
        "b= pd.read_csv('/kaggle/input/lish-moa/test_features.csv')\n",
        "c=pd.read_csv('/kaggle/input/lish-moa/train_targets_nonscored.csv')\n",
        "d=pd.read_csv('/kaggle/input/lish-moa/train_targets_scored.csv')\n",
        "e=pd.read_csv('../input/lish-moa/train_drug.csv')\n",
        "f=a.merge(e, how='left', on='sig_id')\n",
        "\n",
        "merged=pd.concat([a,b])\n",
        "\n",
        "#Datasets for treated and control experiments\n",
        "treated= a[a['cp_type']=='trt_cp']\n",
        "control= a[a['cp_type']=='ctl_vehicle']\n",
        "\n",
        "#Datasets for treated and control: TEST SET\n",
        "treated_t= b[b['cp_type']=='trt_cp']\n",
        "control_t= b[b['cp_type']=='ctl_vehicle']\n",
        "\n",
        "#Treatment time datasets\n",
        "cp24= a[a['cp_time']== 24]\n",
        "cp48= a[a['cp_time']== 48]\n",
        "cp72= a[a['cp_time']== 72]\n",
        "\n",
        "#Merge scored and nonscored labels\n",
        "all_drugs= pd.merge(d, c, on='sig_id', how='inner')\n",
        "\n",
        "#Treated drugs without control\n",
        "treated_list = treated['sig_id'].to_list()\n",
        "drugs_tr= d[d['sig_id'].isin(treated_list)]\n",
        "\n",
        "#Select the columns c-\n",
        "c_cols3 = [col for col in b.columns if 'c-' in col]\n",
        "#Filter the TEST set\n",
        "cells3=treated[c_cols3]\n",
        "\n",
        "#Treated drugs:\n",
        "nonscored= c[c['sig_id'].isin(treated_list)]\n",
        "scored= d[d['sig_id'].isin(treated_list)]\n",
        "\n",
        "#adt= All Drugs Treated\n",
        "adt= all_drugs[all_drugs['sig_id'].isin(treated_list)]\n",
        "\n",
        "#Select the columns c-\n",
        "c_cols = [col for col in a.columns if 'c-' in col]\n",
        "#Filter the columns c-\n",
        "cells=treated[c_cols]\n",
        "\n",
        "#Select the columns g-\n",
        "g_cols = [col for col in a.columns if 'g-' in col]\n",
        "#Filter the columns g-\n",
        "genes=treated[g_cols]\n",
        "\n",
        "\n",
        "\n",
        "#####################################################\n",
        "#### HELPER FUNCTIONS\n",
        "\n",
        "def plotd(f1):\n",
        "    plt.style.use('seaborn')\n",
        "    sns.set_style('whitegrid')\n",
        "    fig = plt.figure(figsize=(15,5))\n",
        "    #1 rows 2 cols\n",
        "    #first row, first col\n",
        "    ax1 = plt.subplot2grid((1,2),(0,0))\n",
        "    plt.hist(control[f1], bins=4, color='mediumpurple',alpha=0.5)\n",
        "    plt.title(f'control: {f1}',weight='bold', fontsize=18)\n",
        "    #first row sec col\n",
        "    ax1 = plt.subplot2grid((1,2),(0,1))\n",
        "    plt.hist(treated[f1], bins=4, color='darkcyan',alpha=0.5)\n",
        "    plt.title(f'Treated with drugs: {f1}',weight='bold', fontsize=18)\n",
        "    plt.show()\n",
        "\n",
        "def plott(f1):\n",
        "    plt.style.use('seaborn')\n",
        "    sns.set_style('whitegrid')\n",
        "    fig = plt.figure(figsize=(15,5))\n",
        "    #1 rows 2 cols\n",
        "    #first row, first col\n",
        "    ax1 = plt.subplot2grid((1,3),(0,0))\n",
        "    plt.hist(cp24[f1], bins=3, color='deepskyblue',alpha=0.5)\n",
        "    plt.title(f'Treatment duration 24h: {f1}',weight='bold', fontsize=14)\n",
        "    #first row sec col\n",
        "    ax1 = plt.subplot2grid((1,3),(0,1))\n",
        "    plt.hist(cp48[f1], bins=3, color='lightgreen',alpha=0.5)\n",
        "    plt.title(f'Treatment duration 48h: {f1}',weight='bold', fontsize=14)\n",
        "    #first row 3rd column\n",
        "    ax1 = plt.subplot2grid((1,3),(0,2))\n",
        "    plt.hist(cp72[f1], bins=3, color='gold',alpha=0.5)\n",
        "    plt.title(f'Treatment duration 72h: {f1}',weight='bold', fontsize=14)\n",
        "    plt.show()\n",
        "\n",
        "def plotf(f1, f2, f3, f4):\n",
        "    plt.style.use('seaborn')\n",
        "    sns.set_style('whitegrid')\n",
        "\n",
        "    fig= plt.figure(figsize=(15,10))\n",
        "    #2 rows 2 cols\n",
        "    #first row, first col\n",
        "    ax1 = plt.subplot2grid((2,2),(0,0))\n",
        "    sns.distplot(a[f1], color='crimson')\n",
        "    plt.title(f1,weight='bold', fontsize=18)\n",
        "    plt.yticks(weight='bold')\n",
        "    plt.xticks(weight='bold')\n",
        "    #first row sec col\n",
        "    ax1 = plt.subplot2grid((2,2), (0, 1))\n",
        "    sns.distplot(a[f2], color='gainsboro')\n",
        "    plt.title(f2,weight='bold', fontsize=18)\n",
        "    plt.yticks(weight='bold')\n",
        "    plt.xticks(weight='bold')\n",
        "    #Second row first column\n",
        "    ax1 = plt.subplot2grid((2,2), (1, 0))\n",
        "    sns.distplot(a[f3], color='deepskyblue')\n",
        "    plt.title(f3,weight='bold', fontsize=18)\n",
        "    plt.yticks(weight='bold')\n",
        "    plt.xticks(weight='bold')\n",
        "    #second row second column\n",
        "    ax1 = plt.subplot2grid((2,2), (1, 1))\n",
        "    sns.distplot(a[f4], color='black')\n",
        "    plt.title(f4,weight='bold', fontsize=18)\n",
        "    plt.yticks(weight='bold')\n",
        "    plt.xticks(weight='bold')\n",
        "\n",
        "    return plt.show()\n",
        "\n",
        "def ploth(data, w=15, h=9):\n",
        "    plt.figure(figsize=(w,h))\n",
        "    sns.heatmap(data.corr(), cmap='hot')\n",
        "    plt.title('Correlation between targets', fontsize=25, weight='bold')\n",
        "    return plt.show()\n",
        "\n",
        "# corrs function: Show dataframe of high correlation between features\n",
        "def corrs(data, col1='Gene 1', col2='Gene 2',rows=5,thresh=0.8, pos=[1,3,5,7,9,11,13,15,17,19,21,23,25,27,29,31,33,35,37,39,41,43,45,47,49,51,53]):\n",
        "        #Correlation between genes\n",
        "        corre= data.corr()\n",
        "         #Unstack the dataframe\n",
        "        s = corre.unstack()\n",
        "        so = s.sort_values(kind=\"quicksort\", ascending=False)\n",
        "        #Create new dataframe\n",
        "        so2= pd.DataFrame(so).reset_index()\n",
        "        so2= so2.rename(columns={0: 'correlation', 'level_0':col1, 'level_1': col2})\n",
        "        #Filter out the coef 1 correlation between the same drugs\n",
        "        so2= so2[so2['correlation'] != 1]\n",
        "        #Drop pair duplicates\n",
        "        so2= so2.reset_index()\n",
        "        pos = pos\n",
        "        so3= so2.drop(so2.index[pos])\n",
        "        so3= so3.drop('index', axis=1)\n",
        "        #Show the first 10 high correlations\n",
        "        cm = sns.light_palette(\"Red\", as_cmap=True)\n",
        "        s = so3.head(rows).style.background_gradient(cmap=cm)\n",
        "        print(f\"{len(so2[so2['correlation']>thresh])/2} {col1} pairs have +{thresh} correlation.\")\n",
        "        return s\n",
        "\n",
        "def plotgene(data):\n",
        "    sns.set_style('whitegrid')\n",
        "    data.plot.bar(color=sns.color_palette('Reds',885), edgecolor='black')\n",
        "    set_size(13,5)\n",
        "    #plt.xticks(rotation=90)\n",
        "    plt.tick_params(\n",
        "        axis='x',          # changes apply to the x-axis\n",
        "        which='both',      # both major and minor ticks are affected\n",
        "        bottom=False,      # ticks along the bottom edge are off\n",
        "        top=False,         # ticks along the top edge are off\n",
        "        labelbottom=False) # labels along the bottom edge are off\n",
        "    plt.ylabel('Gene expression values', weight='bold')\n",
        "    plt.title('Mean gene expression of the 772 genes', fontsize=15)\n",
        "    return plt.show()\n",
        "\n",
        "def mean(row):\n",
        "    return row.mean()\n",
        "\n",
        "def set_size(w,h, ax=None):\n",
        "    \"\"\" w, h: width, height in inches \"\"\"\n",
        "    if not ax: ax=plt.gca()\n",
        "    l = ax.figure.subplotpars.left\n",
        "    r = ax.figure.subplotpars.right\n",
        "    t = ax.figure.subplotpars.top\n",
        "    b = ax.figure.subplotpars.bottom\n",
        "    figw = float(w)/(r-l)\n",
        "    figh = float(h)/(t-b)\n",
        "    ax.figure.set_size_inches(figw, figh)\n",
        "\n",
        "def unidrug(data):\n",
        "    #Filter out just the treated samples\n",
        "    scored= data[data['sig_id'].isin(treated_list)]\n",
        "\n",
        "    #Count unique values per column\n",
        "    cols = data.columns.to_list() # specify the columns whose unique values you want here\n",
        "    uniques = {col: data[col].nunique() for col in cols}\n",
        "    uniques=pd.DataFrame(uniques, index=[0]).T\n",
        "    uniques=uniques.rename(columns={0:'count'})\n",
        "    uniques= uniques.drop('sig_id', axis=0)\n",
        "    return uniques\n",
        "\n",
        "def avgdrug(data):\n",
        "\n",
        "    uniques=unidrug(data)\n",
        "\n",
        "     #Calculate the mean values\n",
        "    scored= data[data['sig_id'].isin(treated_list)]\n",
        "    average=scored.mean()\n",
        "    average=pd.DataFrame(average)\n",
        "    average=average.rename(columns={ 0: 'mean'})\n",
        "    average['percentage']= average['mean']*100\n",
        "\n",
        "    return average\n",
        "\n",
        "def avgfiltered(data):\n",
        "\n",
        "    average= avgdrug(data)\n",
        "    #Filter just the drugs with mean >0.01\n",
        "    average_filtered= average[average['mean'] > 0.01]\n",
        "    average_filtered= average_filtered.reset_index()\n",
        "    average_filtered= average_filtered.rename(columns={'index': 'drug'})\n",
        "    return average_filtered\n",
        "\n",
        "def plotc(data, column, width=10, height=6, color=('silver', 'gold','lightgreen','skyblue','lightpink'), edgecolor='black'):\n",
        "\n",
        "        fig, ax = plt.subplots(figsize=(width,height))\n",
        "        title_cnt=data[column].value_counts()[:15].sort_values(ascending=True).reset_index()\n",
        "        mn= ax.barh(title_cnt.iloc[:,0], title_cnt.iloc[:,1], color=sns.color_palette('Reds',len(title_cnt)))\n",
        "\n",
        "        tightout= 0.008*max(title_cnt[column])\n",
        "        ax.set_title(f'Count of {column}', fontsize=15, weight='bold' )\n",
        "        ax.set_ylabel(f\"{column}\", weight='bold', fontsize=12)\n",
        "        ax.set_xlabel('Count', weight='bold')\n",
        "        if len(data[column].unique()) < 17:\n",
        "            plt.xticks(rotation=65)\n",
        "        else:\n",
        "            plt.xticks(rotation=90)\n",
        "        for i in ax.patches:\n",
        "            ax.text(i.get_width()+ tightout, i.get_y()+0.1, str(round((i.get_width()), 2)),\n",
        "             fontsize=10, fontweight='bold', color='grey')\n",
        "        return\n",
        "\n",
        "def plot_drugid(drug_id):\n",
        "    g=d[f['drug_id']==drug_id]\n",
        "    average_filtered2=avgfiltered(g)\n",
        "\n",
        "    plt.figure(figsize=(5,2))\n",
        "    average_filtered2.sort_values('percentage', inplace=True)\n",
        "    plt.scatter(average_filtered2['percentage'], average_filtered2['drug'], color=sns.color_palette('Reds',len(average_filtered2)))\n",
        "    plt.title(f'Targets with higher presence in the drug: {drug_id} ', weight='bold', fontsize=15)\n",
        "    plt.xticks(weight='bold')\n",
        "    plt.yticks(weight='bold')\n",
        "    plt.xlabel('Percentage', fontsize=13)\n",
        "    return plt.show()"
      ],
      "metadata": {
        "_uuid": "d629ff2d2480ee46fbb7e2d37f6b5fab8052498a",
        "_cell_guid": "79c7e3d0-c299-4dcb-8224-4455121ee9b0",
        "_kg_hide-input": true,
        "trusted": true,
        "id": "XyJ18aFB-oBT"
      },
      "execution_count": null,
      "outputs": []
    },
    {
      "cell_type": "markdown",
      "source": [
        "# 1-Overview: Features\n",
        "> ### 1.1 Categorical features:\n",
        "***\n",
        "**First glimpse: 876 features with:**\n",
        "* Features **g-** signify gene expression data.\n",
        "* Features **c-** signify cell viability data.\n",
        "* **cp_type** indicates samples treated with a compound, **trt_cp** samples treated with the compounds.\n",
        "* **cp_vehicle** or with a control perturbation (ctrl_vehicle); control perturbations have no MoAs.\n",
        "* **cp_time** and **cp_dose** indicate treatment duration (24, 48, 72 hours) and dose (high or low)."
      ],
      "metadata": {
        "id": "Ed9_wmOA-oBW"
      }
    },
    {
      "cell_type": "code",
      "source": [
        "a.head()"
      ],
      "metadata": {
        "_kg_hide-input": true,
        "trusted": true,
        "id": "UW2BgSG9-oBW"
      },
      "execution_count": null,
      "outputs": []
    },
    {
      "cell_type": "code",
      "source": [
        "plt.style.use('seaborn')\n",
        "sns.set_style('whitegrid')\n",
        "fig = plt.figure(figsize=(15,5))\n",
        "#1 rows 2 cols\n",
        "#first row, first col\n",
        "ax1 = plt.subplot2grid((1,2),(0,0))\n",
        "sns.countplot(x='cp_type', data=a, palette='rainbow', alpha=0.75)\n",
        "plt.title('Train: Control and treated samples', fontsize=15, weight='bold')\n",
        "#first row sec col\n",
        "ax1 = plt.subplot2grid((1,2),(0,1))\n",
        "sns.countplot(x='cp_dose', data=a, palette='Purples', alpha=0.75)\n",
        "plt.title('Train: Treatment Doses: Low and High',weight='bold', fontsize=18)\n",
        "plt.show()"
      ],
      "metadata": {
        "_kg_hide-input": true,
        "trusted": true,
        "id": "VUdfEyf7-oBX"
      },
      "execution_count": null,
      "outputs": []
    },
    {
      "cell_type": "code",
      "source": [
        "plt.figure(figsize=(15,5))\n",
        "sns.distplot( a['cp_time'], color='red', bins=5)\n",
        "plt.title(\"Train: Treatment duration \", fontsize=15, weight='bold')\n",
        "plt.show()"
      ],
      "metadata": {
        "_kg_hide-input": true,
        "trusted": true,
        "id": "0wTaBAG5-oBY"
      },
      "execution_count": null,
      "outputs": []
    },
    {
      "cell_type": "markdown",
      "source": [
        "* **Few control samples.**\n",
        "* **The low and high doses were applied equally.**\n",
        "* **3 treatment durations: 24h, 48h and 72h.**"
      ],
      "metadata": {
        "id": "DO9jdYwt-oBY"
      }
    },
    {
      "cell_type": "markdown",
      "source": [
        "# 2- `c-` Features are related to cell viability. What is cell viability?\n",
        "\n",
        "A viability assay is an assay that is created to determine the ability of organs, cells or tissues to maintain or recover a state of survival. Viability can be distinguished from the all-or-nothing states of life and death by the use of a quantifiable index that ranges between the integers of 0 and 1 or, if more easily understood, the range of 0% and 100%. Viability can be observed through the physical properties of cells, tissues, and organs. Some of these include mechanical activity, motility, such as with spermatozoa and granulocytes, the contraction of muscle tissue or cells, mitotic activity in cellular functions, and more. Viability assays provide a more precise basis for measurement of an organism's level of vitality.[1]\n",
        "\n",
        "> ### 2.1 c-xxx features"
      ],
      "metadata": {
        "id": "ollp_8Su-oBZ"
      }
    },
    {
      "cell_type": "code",
      "source": [
        "plotf('c-10', 'c-50', 'c-70', 'c-90')"
      ],
      "metadata": {
        "_kg_hide-input": true,
        "trusted": true,
        "id": "hT7cyx1G-oBa"
      },
      "execution_count": null,
      "outputs": []
    },
    {
      "cell_type": "markdown",
      "source": [
        "\n",
        "***First observation in this EDA:***\n",
        "\n",
        "As mentioned in the definition, cell viability should range between the integers 0 and 1. Here, we have values in the range -10 and 6 because the data were z-scored and then normalized using a procedure called [quantile normalization](https://clue.io/connectopedia/glossary#Q).\n",
        "\n",
        "*A high negative cell viability measure reflects a high fraction of killing [@by the host](https://www.kaggle.com/c/lish-moa/discussion/191487).* In other words:\n",
        "* High negative values = High number of dead cells\n",
        "* High positive values = High number of living cells.\n",
        "\n",
        "> ### 2.2 Cell viability:\n",
        "\n",
        "Let's see the difference between the cell viability in a control and treated sample."
      ],
      "metadata": {
        "id": "qDr5rm5--oBc"
      }
    },
    {
      "cell_type": "code",
      "source": [
        "plotd(\"c-30\")"
      ],
      "metadata": {
        "_kg_hide-input": true,
        "trusted": true,
        "id": "R4Q0jQVd-oBc"
      },
      "execution_count": null,
      "outputs": []
    },
    {
      "cell_type": "markdown",
      "source": [
        "This is just a first impression after checking multiple cell lines *(We need to check all the cell lines to draw conclusions).*\n",
        "\n",
        "> ### 2.3 Treatment time:\n",
        "\n",
        "**Next, let's see the impact of the treatment time on the cell viability.**"
      ],
      "metadata": {
        "id": "3He2m0Pn-oBd"
      }
    },
    {
      "cell_type": "code",
      "source": [
        "plott('c-30')"
      ],
      "metadata": {
        "_kg_hide-input": true,
        "trusted": true,
        "id": "oCZDBfFy-oBd"
      },
      "execution_count": null,
      "outputs": []
    },
    {
      "cell_type": "markdown",
      "source": [
        "> ### 2.4 Cells correlation\n",
        "\n",
        "**Let's see the correlation between cell viability features (in the treated samples, no control).**"
      ],
      "metadata": {
        "id": "AhTLuOuj-oBe"
      }
    },
    {
      "cell_type": "code",
      "source": [
        "#Select the columns c-\n",
        "c_cols = [col for col in a.columns if 'c-' in col]\n",
        "#Filter the columns c-\n",
        "cells=treated[c_cols]\n",
        "#Plot heatmap\n",
        "plt.figure(figsize=(15,6))\n",
        "sns.heatmap(cells.corr(), cmap='coolwarm', alpha=0.9)\n",
        "plt.title('Correlation: Cell viability', fontsize=15, weight='bold')\n",
        "plt.xticks(weight='bold')\n",
        "plt.yticks(weight='bold')\n",
        "plt.show()"
      ],
      "metadata": {
        "_kg_hide-input": true,
        "trusted": true,
        "id": "D2HLka6h-oBe"
      },
      "execution_count": null,
      "outputs": []
    },
    {
      "cell_type": "code",
      "source": [
        "corrs(cells, 'Cell', 'Cell 2', rows=7)"
      ],
      "metadata": {
        "_kg_hide-input": true,
        "trusted": true,
        "id": "qxUTEIBx-oBf"
      },
      "execution_count": null,
      "outputs": []
    },
    {
      "cell_type": "markdown",
      "source": [
        "* **Many high correlations between c- features. This is something to be taken into consideration in feature engineering.**\n",
        "***\n",
        "\n",
        "# 3- `g-` Features are related to gene expression. What is gene expression?\n",
        "\n",
        "Gene expression is the process by which information from a gene is used in the synthesis of a functional gene product. These products are often proteins. You can refer to my notebook [COVID_19: Viral proteins identification](https://www.kaggle.com/amiiiney/covid-19-proteins-identification-with-biopython) to understand more how gene expression works.\n",
        "\n",
        "In short, the mechanism of action of the 207 targets in this study will activate some genes, gene expression will take place and byproducts (proteins) will be synthesized.\n",
        "> ### 3.1 g-xxx features"
      ],
      "metadata": {
        "id": "awF5Fy5s-oBg"
      }
    },
    {
      "cell_type": "code",
      "source": [
        "plotf('g-10','g-100','g-200','g-400')"
      ],
      "metadata": {
        "_kg_hide-input": true,
        "trusted": true,
        "id": "Z0_pnmew-oBh"
      },
      "execution_count": null,
      "outputs": []
    },
    {
      "cell_type": "markdown",
      "source": [
        "> ### 3.2 Gene expression:\n",
        "\n",
        "***How to interpret those values?***\n",
        "\n",
        "Gene expression levels are calculated by the ratio between the expression of the target gene (i.e., the gene of interest) and the expression of one or more reference genes (often household genes). [3]\n",
        "\n",
        "> To understand this better, let's compare the samples treated with the drugs and the control samples."
      ],
      "metadata": {
        "id": "A-3VdSSq-oBh"
      }
    },
    {
      "cell_type": "code",
      "source": [
        "plotd('g-510')"
      ],
      "metadata": {
        "_kg_hide-input": true,
        "trusted": true,
        "id": "d4-YCrJ5-oBh"
      },
      "execution_count": null,
      "outputs": []
    },
    {
      "cell_type": "markdown",
      "source": [
        "> ### 3.3 Treatment time:\n",
        "\n",
        "**let's check the impact of the treatment time on the gene expression.**"
      ],
      "metadata": {
        "id": "qTzsMhyT-oBh"
      }
    },
    {
      "cell_type": "code",
      "source": [
        "plott('g-510')"
      ],
      "metadata": {
        "_kg_hide-input": true,
        "trusted": true,
        "id": "rHMrXYHP-oBi"
      },
      "execution_count": null,
      "outputs": []
    },
    {
      "cell_type": "markdown",
      "source": [
        "> ### 3.4 Genes correlation:\n",
        "\n",
        "**let's see the correlation between gene expression features. (in the treated samples, no control)**"
      ],
      "metadata": {
        "id": "6cD27qdi-oBi"
      }
    },
    {
      "cell_type": "code",
      "source": [
        "#Select the columns g-\n",
        "g_cols = [col for col in a.columns if 'g-' in col]\n",
        "#Filter the columns g-\n",
        "genes=treated[g_cols]\n",
        "#Plot heatmap\n",
        "plt.figure(figsize=(15,7))\n",
        "sns.heatmap(genes.corr(), cmap='coolwarm', alpha=0.9)\n",
        "plt.title('Gene expression: Correlation', fontsize=15, weight='bold')\n",
        "plt.show()"
      ],
      "metadata": {
        "_kg_hide-input": true,
        "trusted": true,
        "id": "xkVaqBgJ-oBi"
      },
      "execution_count": null,
      "outputs": []
    },
    {
      "cell_type": "markdown",
      "source": [
        "* **We have both negative and positive correlations here between genes. Interesting!** *(The control samples were not included, so the negative correlation between some genes is not related to the control/treated samples).*\n",
        "\n",
        "Let's have a closer look at the high correlation genes."
      ],
      "metadata": {
        "id": "fl-GABsr-oBi"
      }
    },
    {
      "cell_type": "code",
      "source": [
        "corrs(genes, 'Gene', 'Gene 2')"
      ],
      "metadata": {
        "_kg_hide-input": true,
        "trusted": true,
        "id": "4fe5dD87-oBi"
      },
      "execution_count": null,
      "outputs": []
    },
    {
      "cell_type": "markdown",
      "source": [
        "**Strong negative correlation genes**"
      ],
      "metadata": {
        "id": "xRvuoIuV-oBi"
      }
    },
    {
      "cell_type": "code",
      "source": [
        "#Correlation between drugs\n",
        "corre= genes.corr()\n",
        "#Unstack the dataframe\n",
        "s = corre.unstack()\n",
        "so = s.sort_values(kind=\"quicksort\", ascending=False)\n",
        "#Create new dataframe\n",
        "so2= pd.DataFrame(so).reset_index()\n",
        "so2= so2.rename(columns={0: 'correlation', 'level_0':'Drug 1', 'level_1': 'Drug2'})\n",
        "#Filter out the coef 1 correlation between the same drugs\n",
        "so2= so2[so2['correlation'] != 1]\n",
        "#Drop pair duplicates\n",
        "so2= so2.reset_index()\n",
        "so2= so2.sort_values(by=['correlation'])\n",
        "pos = [1,3,5,7,9,11,13,15,17,19,21]\n",
        "so2= so2.drop(so2.index[pos])\n",
        "so2= so2.round(decimals=4)\n",
        "so2=so2.drop('index', axis=1)\n",
        "so3=so2.head(4)\n",
        "#Show the first 10 high correlations\n",
        "cm = sns.light_palette(\"Red\", as_cmap=True)\n",
        "s = so2.head().style.background_gradient(cmap=cm)\n",
        "s"
      ],
      "metadata": {
        "_kg_hide-input": true,
        "trusted": true,
        "id": "sw90Due7-oBj"
      },
      "execution_count": null,
      "outputs": []
    },
    {
      "cell_type": "markdown",
      "source": [
        "We have 34 gene pairs with **+0.8** correlation. This information will be useful, we will come back to it in the following sections.\n",
        "> ### 3.5 Mean gene expression of g-xxx features"
      ],
      "metadata": {
        "id": "6kQf5Izk-oBj"
      }
    },
    {
      "cell_type": "code",
      "source": [
        "#Transpose the dataframe\n",
        "genesT=genes.T\n",
        "#Calculate the mean of each g_xxx feature\n",
        "genesT['mean'] = genesT.apply (lambda row: mean(row), axis=1)\n",
        "#Plot the mean values\n",
        "genesTm=genesT.reset_index()\n",
        "genesTm=genesTm[['index', 'mean']]\n",
        "plotgene(genesTm)"
      ],
      "metadata": {
        "_kg_hide-input": true,
        "trusted": true,
        "id": "NUcIcGMq-oBj"
      },
      "execution_count": null,
      "outputs": []
    },
    {
      "cell_type": "markdown",
      "source": [
        "The mean gene expression of the 772 genes show some strong negative and positive gene expression values. This can be due to many factors:\n",
        "* Some drugs **upregulate** and others **downregulate** some genes: For example, drug-A could reduce gene-X expression level while drug-B could elevate gene-Y expression level.\n",
        "\n",
        "* Some genes have high **negative correlation**, so gene-X has a high positive gene expression value which means gene-Y will have a high negative gene expression value.\n",
        "\n",
        "* Other factors are related to the drug types and the genes, the information about drugs, genes and cells is not provided!\n",
        "\n",
        "\n",
        "\n",
        "# 4-Targets *(MoA)*:\n",
        "***\n",
        "> ## 4-1 Scored targets:\n",
        "\n",
        "This is a multi-label classification, we have 207 MoA and we have to find out the mechanism of action of the 5000 drugs that were treated in the `sig_id` samples. A single sample treated with a drug can have many active targets, in other words, one drug can have more than 1 mechanism of action, so we have to predict the mechanisms of action of each drug.\n",
        "\n",
        "*We will filter the **train_targets_scored** dataset and keep just the treated rows (we discard the control rows because they are not treated with the drugs).*\n"
      ],
      "metadata": {
        "id": "DDPNJ1jj-oBj"
      }
    },
    {
      "cell_type": "code",
      "source": [
        "average= avgdrug(d)\n",
        "uniques=unidrug(d)\n",
        "average_filtered=avgfiltered(d)\n",
        "\n",
        "plt.style.use('seaborn')\n",
        "sns.set_style('whitegrid')\n",
        "fig = plt.figure(figsize=(15,5))\n",
        "#1 rows 2 cols\n",
        "#first row, first col\n",
        "ax1 = plt.subplot2grid((1,2),(0,0))\n",
        "sns.countplot(uniques['count'], color='deepskyblue', alpha=0.75)\n",
        "plt.title('Unique elements per target [0,1]', fontsize=15, weight='bold')\n",
        "#first row sec col\n",
        "ax1 = plt.subplot2grid((1,2),(0,1))\n",
        "sns.distplot(average['percentage'], color='orange', bins=20)\n",
        "plt.title(\"The targets mean distribution\", fontsize=15, weight='bold')\n",
        "plt.show()"
      ],
      "metadata": {
        "_kg_hide-input": true,
        "trusted": true,
        "id": "Avku1b6C-oBj"
      },
      "execution_count": null,
      "outputs": []
    },
    {
      "cell_type": "markdown",
      "source": [
        "* All the targets are present in at least one sample.\n",
        "* The presence of the targets is very low in the samples (Mostly less than 0.75%).\n",
        "* Some targets *(outliers)* have a higher presence in comparison with the rest of targets with a percentage in the range (3%, 4%).\n",
        "\n",
        "> ### 4-1-1 **Most frequent targets:**"
      ],
      "metadata": {
        "id": "DjLtqmAh-oBl"
      }
    },
    {
      "cell_type": "code",
      "source": [
        "plt.figure(figsize=(7,7))\n",
        "average_filtered.sort_values('percentage', inplace=True)\n",
        "plt.scatter(average_filtered['percentage'], average_filtered['drug'], color=sns.color_palette('Reds',len(average_filtered)))\n",
        "plt.title('Targets with higher presence in train samples', weight='bold', fontsize=15)\n",
        "plt.xticks(weight='bold')\n",
        "plt.yticks(weight='bold')\n",
        "plt.xlabel('Percentage', fontsize=13)\n",
        "plt.show()"
      ],
      "metadata": {
        "_kg_hide-input": true,
        "trusted": true,
        "id": "c9ZYbbC0-oBl"
      },
      "execution_count": null,
      "outputs": []
    },
    {
      "cell_type": "markdown",
      "source": [
        "* It seems we have 2 outliers here: **nfkb_inhibitor** and **proteasome_inhibitor.** *(We will come back to this later)*\n",
        "\n",
        "* We can see many target labels in the plot: inhibitor, agonist, antagonist.\n",
        "> ### 4-1-2 Targets: Drug types:"
      ],
      "metadata": {
        "id": "hG8NT2dJ-oBl"
      }
    },
    {
      "cell_type": "code",
      "source": [
        "inhibitors = [col for col in d.columns if 'inhibitor' in col]\n",
        "activators = [col for col in d.columns if 'activator' in col]\n",
        "antagonists = [col for col in d.columns if 'antagonist' in col]\n",
        "agonists = [col for col in d.columns if 'agonist' in col]\n",
        "modulators = [col for col in d.columns if 'modulator' in col]\n",
        "receptors = [col for col in d.columns if 'receptor' in col]\n",
        "receptors_ago = [col for col in d.columns if 'receptor_agonist' in col]\n",
        "receptors_anta = [col for col in d.columns if 'receptor_antagonist' in col]\n",
        "\n",
        "\n",
        "labelss= {'Drugs': ['inhibitors', 'activators', 'antagonists', 'agonists', 'receptors', 'receptors_ago', 'receptors_anta'],\n",
        "          'Count':[112,5,32,60, 53, 24, 26]}\n",
        "\n",
        "\n",
        "labels= pd.DataFrame(labelss)\n",
        "labels=labels.sort_values(by=['Count'])\n",
        "plt.figure(figsize=(15,5))\n",
        "plt.bar(labels['Drugs'], labels['Count'], color=sns.color_palette('Reds',len(labels)))\n",
        "plt.xticks(weight='bold')\n",
        "plt.title('Target types', weight='bold', fontsize=15)\n",
        "plt.show()"
      ],
      "metadata": {
        "_kg_hide-input": true,
        "trusted": true,
        "id": "8mGZnD5D-oBl"
      },
      "execution_count": null,
      "outputs": []
    },
    {
      "cell_type": "markdown",
      "source": [
        "* **Inhibitor targets** are dominating with 121 targets (out of 206).\n",
        "* Agonists, receptors and antagonists come at the second plan.\n",
        "***\n",
        "> ### 4-1-3 Correlation between targets:"
      ],
      "metadata": {
        "id": "JDoVxNqE-oBm"
      }
    },
    {
      "cell_type": "code",
      "source": [
        "ploth(drugs_tr)"
      ],
      "metadata": {
        "_kg_hide-input": true,
        "trusted": true,
        "id": "e5431oHO-oBm"
      },
      "execution_count": null,
      "outputs": []
    },
    {
      "cell_type": "markdown",
      "source": [
        "Most of the targets have 0 correlation. It is worth recalling that the presence of active targets in the samples in very low (mainly 1 or 2 targets per sample).\n",
        "\n",
        "However, we notice some yellow dots *(high correlation)* between some targets. Let's have a closer look over these targets.\n",
        "\n",
        "> ### 4-1-4 Targets with the highest MoA correlation"
      ],
      "metadata": {
        "id": "wvoTxKH5-oBm"
      }
    },
    {
      "cell_type": "code",
      "source": [
        "#Correlation between drugs\n",
        "corre= drugs_tr.corr()\n",
        "#Unstack the dataframe\n",
        "s = corre.unstack()\n",
        "so = s.sort_values(kind=\"quicksort\", ascending=False)\n",
        "#Create new dataframe\n",
        "so2= pd.DataFrame(so).reset_index()\n",
        "so2= so2.rename(columns={0: 'correlation', 'level_0':'Target 1', 'level_1': 'Target 2'})\n",
        "#Filter out the coef 1 correlation between the same drugs\n",
        "so2= so2[so2['correlation'] != 1]\n",
        "#Drop pair duplicates\n",
        "so2= so2.reset_index()\n",
        "pos = [1,3,5,7,9,11,13,15,17,19,21,23,25,27,29,31,33,35]\n",
        "so2= so2.drop(so2.index[pos])\n",
        "so2= so2.round(decimals=4)\n",
        "so2=so2.drop('index', axis=1)\n",
        "so3=so2.head(4)\n",
        "#Show the first 10 high correlations\n",
        "cm = sns.light_palette(\"Red\", as_cmap=True)\n",
        "s = so2.head().style.background_gradient(cmap=cm)\n",
        "s"
      ],
      "metadata": {
        "_kg_hide-input": true,
        "trusted": true,
        "id": "75O3DEZD-oBr"
      },
      "execution_count": null,
      "outputs": []
    },
    {
      "cell_type": "markdown",
      "source": [
        "* **2 Target-pairs have +0.9 correlation:**\n",
        "\n",
        "Those target pairs must be in the few samples that have more than two active targets. The functionality of these targets and their distribution is something to be taken into consideration because in this case, we have **a multi-label classification problem**, where the correlation between the labels is also important and the model selection should be based on the labels correlation. Select a model that finds patterns not just in the train data but also in the **multi-label target data.**\n",
        "\n",
        "Below, we will try to connect the dots and try to match the high correlated targets with the targets with the most presence in the samples."
      ],
      "metadata": {
        "id": "7iVvPGBK-oBr"
      }
    },
    {
      "cell_type": "code",
      "source": [
        "plt.figure(figsize=(8,10))\n",
        "the_table =plt.table(cellText=so3.values,colWidths = [0.35]*len(so3.columns),\n",
        "          rowLabels=so3.index,\n",
        "          colLabels=so3.columns\n",
        "          ,cellLoc = 'center', rowLoc = 'center',\n",
        "          loc='left', edges='closed', bbox=(1,0, 1, 1)\n",
        "         ,rowColours=sns.color_palette('Reds',10))\n",
        "the_table.auto_set_font_size(False)\n",
        "the_table.set_fontsize(10.5)\n",
        "the_table.scale(2, 2)\n",
        "average_filtered.sort_values('percentage', inplace=True)\n",
        "plt.scatter(average_filtered['percentage'], average_filtered['drug'], color=sns.color_palette('Reds',len(average_filtered)))\n",
        "plt.title('Targets with higher presence in train samples', weight='bold', fontsize=15)\n",
        "plt.xlabel('Percentage', weight='bold')\n",
        "plt.xticks(weight='bold')\n",
        "plt.yticks(weight='bold')\n",
        "plt.show()"
      ],
      "metadata": {
        "_kg_hide-input": true,
        "trusted": true,
        "id": "4J1P4zAF-oBr"
      },
      "execution_count": null,
      "outputs": []
    },
    {
      "cell_type": "markdown",
      "source": [
        "* **Observations:**\n",
        "\n",
        ">1. **nfkb_inhibitor and proteasome_inhibitor** have +0.9 correlation and are highly presented in the samples.\n",
        "2.  **Kit_inhibtor** is highly correlated with 2 targets: **pdgfr_inhibitor and flt3_inhibitor**.\n",
        "\n",
        "The samples having +2 active targets most probably include those 4 target pairs.\n",
        "***\n",
        "\n",
        "> ## 4-2 Nonscored targets:\n",
        "\n",
        "In this section, we will have a look over the dataset provided that will not be used in the score. This dataset has 402 MoAs *(more than the 206 MoAs in the targets_scored dataset that will be used in the score).*\n",
        "\n",
        "This dataset can be used for transfer learning!"
      ],
      "metadata": {
        "id": "muJMKwFl-oBs"
      }
    },
    {
      "cell_type": "code",
      "source": [
        "#Extract unique elements per column\n",
        "cols2 = nonscored.columns.to_list() # specify the columns whose unique values you want here\n",
        "uniques2 = {col: nonscored[col].nunique() for col in cols2}\n",
        "uniques2=pd.DataFrame(uniques2, index=[0]).T\n",
        "uniques2=uniques2.rename(columns={0:'count'})\n",
        "uniques2= uniques2.drop('sig_id', axis=0)\n",
        "\n",
        "#############################\n",
        "### PLOT\n",
        "plt.style.use('seaborn')\n",
        "sns.set_style('whitegrid')\n",
        "fig = plt.figure(figsize=(15,5))\n",
        "#1 rows 2 cols\n",
        "#first row, first col\n",
        "ax1 = plt.subplot2grid((1,2),(0,0))\n",
        "sns.countplot(uniques2['count'], palette='Blues', alpha=0.75)\n",
        "plt.title('Nonscored: Unique elements per target [0,1]', fontsize=13, weight='bold')\n",
        "#first row sec col\n",
        "ax1 = plt.subplot2grid((1,2),(0,1))\n",
        "sns.countplot(uniques['count'], color='cyan', alpha=0.75)\n",
        "plt.title('Scored: Unique elements per target [0,1]', fontsize=13, weight='bold')\n",
        "plt.show()"
      ],
      "metadata": {
        "_kg_hide-input": true,
        "trusted": true,
        "id": "9DbeLnna-oBs"
      },
      "execution_count": null,
      "outputs": []
    },
    {
      "cell_type": "code",
      "source": [
        "print(f\"{len(uniques2[uniques2['count']==1])} targets without ANY mechanism of action in the nonscored dataset\")"
      ],
      "metadata": {
        "_kg_hide-input": true,
        "trusted": true,
        "id": "_Z7GYD4e-oBs"
      },
      "execution_count": null,
      "outputs": []
    },
    {
      "cell_type": "markdown",
      "source": [
        "* We have seen in the previous section that the scored targets had [0,1] in all the samples, in other words, **ALL THE TARGETS HAD A MoA IN AT LEAST ONE SAMPLE.**\n",
        "\n",
        "* Here, we see that the extra nonscored dataset contains **71 targets without ANY mechanism or action MoA.**\n",
        "\n",
        "Now that we know that 71 targets don't have any mechanism of action, let's compare the targets with MoA in the nonscore dataset with the score one.\n",
        "> ### 4-2-1 Percentage of non-scored MoA in the samples:"
      ],
      "metadata": {
        "id": "XZxQP0v4-oBs"
      }
    },
    {
      "cell_type": "code",
      "source": [
        "#Filter out just the treated samples\n",
        "#Calculate the mean values\n",
        "average2=nonscored.mean()\n",
        "average2=pd.DataFrame(average2)\n",
        "average2=average2.rename(columns={ 0: 'mean'})\n",
        "average2['percentage']= average2['mean']*100\n",
        "#Filter just the drugs with mean >0.01\n",
        "average_filtered2= average2[average2['mean'] > 0.01]\n",
        "average_filtered2= average_filtered2.reset_index()\n",
        "average_filtered2= average_filtered2.rename(columns={'index': 'drug'})\n",
        "\n",
        "#####################\n",
        "#Plot the percentage of MoAs\n",
        "plt.style.use('seaborn')\n",
        "sns.set_style('whitegrid')\n",
        "fig = plt.figure(figsize=(15,5))\n",
        "#1 rows 2 cols\n",
        "#first row, first col\n",
        "ax1 = plt.subplot2grid((1,2),(0,0))\n",
        "sns.distplot(average2['percentage'], color='blue', bins=20)\n",
        "plt.title('Percentage of the nonscored MoAs in the samples',weight='bold', fontsize=13)\n",
        "#first row sec col\n",
        "ax1 = plt.subplot2grid((1,2),(0,1))\n",
        "sns.distplot(average['percentage'], color='gold', bins=20)\n",
        "plt.title('Percentage of the scored MoAs in the samples',weight='bold', fontsize=13)\n",
        "plt.show()"
      ],
      "metadata": {
        "_kg_hide-input": true,
        "trusted": true,
        "id": "pDPPAg6T-oBs"
      },
      "execution_count": null,
      "outputs": []
    },
    {
      "cell_type": "markdown",
      "source": [
        "* The presence of the nonscored targets in the samples is 10 times lower than the scored ones, which will be translated basically to 1 MoA per target in the samples.\n",
        "\n",
        "We can deduct from the latest findings that the nonscored targets have less MoA in comparison to the scored ones. However, this doesn't mean that the information in the nonscored dataset can't be useful because if the nonscored targets have just 1 MoA and it happens that this 1 single MoA coincides with the scored targets in the same samples, then we might have interesting correlation between both targets.\n",
        "\n",
        "To understand this better, let's first merge both scored and nonscored targets datasets and try to find patterns and relationships between the targets in both datasets.\n",
        "> ### 4-2-2 Non-scored targets correlation:"
      ],
      "metadata": {
        "id": "DB-Mb5JB-oBt"
      }
    },
    {
      "cell_type": "code",
      "source": [
        "corrs(adt, 'target', 'target 2', 15, thresh= 0.7)"
      ],
      "metadata": {
        "_kg_hide-input": true,
        "trusted": true,
        "id": "DMYZG8YQ-oBt"
      },
      "execution_count": null,
      "outputs": []
    },
    {
      "cell_type": "markdown",
      "source": [
        "**Great!** This nonscored dataset seems promising.\n",
        "\n",
        "If in the `scored_target` dataset we had just 4 target pairs with +0.7 correlation, by merging both datasets we have more than 15 target pairs highly correlated.\n",
        "\n",
        "> ### 4-2-3 Heatmap of the 31 target with high correlation:"
      ],
      "metadata": {
        "id": "8pAH_Wii-oBt"
      }
    },
    {
      "cell_type": "code",
      "source": [
        "#Correlation between drugs\n",
        "corre= adt.corr()\n",
        "#Unstack the dataframe\n",
        "s = corre.unstack()\n",
        "so = s.sort_values(kind=\"quicksort\", ascending=False)\n",
        "#Create new dataframe\n",
        "so2= pd.DataFrame(so).reset_index()\n",
        "so2= so2.rename(columns={0: 'correlation', 'level_0':'Drug 1', 'level_1': 'Drug2'})\n",
        "#Filter out the coef 1 correlation between the same drugs\n",
        "so2= so2[so2['correlation'] != 1]\n",
        "#Drop pair duplicates\n",
        "so2= so2.reset_index()\n",
        "pos = [1,3,5,7,9, 11,13,15,17,19,21,23, 25, 27, 29, 31,33,35, 37, 39, 41, 43, 45]\n",
        "so2= so2.drop(so2.index[pos])\n",
        "#so2= so2.round(decimals=4)\n",
        "so3=so2.head()\n",
        "#Show the first 10 high correlations\n",
        "cm = sns.light_palette(\"Red\", as_cmap=True)\n",
        "s = so2.head(16).style.background_gradient(cmap=cm)\n",
        "s\n",
        "#High correlation adt 22 pairs\n",
        "adt15= so2.head(22)\n",
        "#Filter the drug names\n",
        "adt_1=adt15['Drug 1'].values.tolist()\n",
        "adt_2=adt15['Drug2'].values.tolist()\n",
        "#Join the 2 lists\n",
        "adt3= adt_1 + adt_2\n",
        "#Keep unique elements and drop duplicates\n",
        "adt4= list(dict.fromkeys(adt3))\n",
        "#Filter out the selected drugs from the \"all drugs treated\" adt dataset\n",
        "adt5= adt[adt4]"
      ],
      "metadata": {
        "_kg_hide-input": true,
        "trusted": true,
        "id": "meLCDnfH-oBt"
      },
      "execution_count": null,
      "outputs": []
    },
    {
      "cell_type": "code",
      "source": [
        "ploth(adt5)"
      ],
      "metadata": {
        "_kg_hide-input": true,
        "trusted": true,
        "id": "l0QAP4XJ-oBu"
      },
      "execution_count": null,
      "outputs": []
    },
    {
      "cell_type": "markdown",
      "source": [
        "**Interesting!** Even though this is just a visual representation of the table above, here we can clearly see that many targets from the `scored_target` dataset have high correlation with several targets from the `nonscored_targets`.\n",
        "\n",
        "> ### 4.3 Drug IDs: *(UPDATE)*\n",
        "\n",
        "We are now provided the drug_id just for the train set, it will be valuable for a more stable CV/LB, however, I don't think it will be valuable for feature engineering since we don't have the drug_id for the test set, let's dig into this new feature:\n",
        "> ### 4-3-1 Most frequent drugs in the train set:"
      ],
      "metadata": {
        "id": "A4s41z_A-oBu"
      }
    },
    {
      "cell_type": "code",
      "source": [
        "plotc(f, 'drug_id')"
      ],
      "metadata": {
        "_kg_hide-input": true,
        "trusted": true,
        "id": "S-zyufV0-oBu"
      },
      "execution_count": null,
      "outputs": []
    },
    {
      "cell_type": "code",
      "source": [
        "print('First observation:')\n",
        "print(f\"Number of rows of the Control vehicle is {len(a[a['cp_type']=='ctl_vehicle'])}\")\n",
        "print(f\"Number of rows of the Drug cacb2b860 is {f.drug_id.value_counts()[0]}\")"
      ],
      "metadata": {
        "_kg_hide-input": true,
        "trusted": true,
        "id": "_u5j4OsN-oBu"
      },
      "execution_count": null,
      "outputs": []
    },
    {
      "cell_type": "markdown",
      "source": [
        "So, Drug cacb2b860 is the control vehicle, this explains it's high presence in the train set. The second most frequent drugs is 87d714366 with 718 rows!\n",
        "> ### 4-3-2 Examples:"
      ],
      "metadata": {
        "id": "NKthgRCQ-oBv"
      }
    },
    {
      "cell_type": "code",
      "source": [
        "plot_drugid('87d714366')"
      ],
      "metadata": {
        "_kg_hide-input": true,
        "trusted": true,
        "id": "fZzWMc0X-oBv"
      },
      "execution_count": null,
      "outputs": []
    },
    {
      "cell_type": "markdown",
      "source": [
        "In section 4.1, figure 2, we have seen that we had 2 outliers: **proteasome_inhibitor and nfkb_inhibitor**, I first thought that that there were many drugs with those MoAs in the train set, but apparently most of them belong to one single drug: **87d714366** that was profiled 718 times.\n",
        "\n",
        "Another drug: **d50f18348** was profiled 178 times and has 3 MoAs:"
      ],
      "metadata": {
        "id": "RPAtuMw0-oBw"
      }
    },
    {
      "cell_type": "code",
      "source": [
        "plot_drugid('d50f18348')"
      ],
      "metadata": {
        "_kg_hide-input": true,
        "trusted": true,
        "id": "uHsOSsEe-oBw"
      },
      "execution_count": null,
      "outputs": []
    },
    {
      "cell_type": "markdown",
      "source": [
        "> The other most frequent drugs have cdk_inhibitor, egfr_inhibitor and tubulin_inhibitor as MoAs."
      ],
      "metadata": {
        "id": "pBRf-33v-oBx"
      }
    },
    {
      "cell_type": "code",
      "source": [
        "plt.figure(figsize=(7,7))\n",
        "average_filtered.sort_values('percentage', inplace=True)\n",
        "plt.scatter(average_filtered['percentage'], average_filtered['drug'], color=sns.color_palette('Reds',len(average_filtered)))\n",
        "plt.title('Targets with higher presence in train samples', weight='bold', fontsize=15)\n",
        "plt.xticks(weight='bold')\n",
        "plt.yticks(weight='bold')\n",
        "plt.xlabel('Percentage', fontsize=13)\n",
        "\n",
        "plt.axhline(y=21.5, color='deepskyblue', linestyle='-.')\n",
        "plt.axhline(y=23.5, color='deepskyblue', linestyle='-.')\n",
        "plt.text(1.7,23, 'Drug: 87d714366 ', fontsize=12, color='black', ha='left' ,va='top')\n",
        "plt.text(1.7,15.7, 'Drug: 8b87a7a83 ', fontsize=12, color='black', ha='left' ,va='top')\n",
        "plt.text(1.7,14.7, 'Drug: 5628cb3ee ', fontsize=12, color='black', ha='left' ,va='top')\n",
        "plt.text(1.7,13.7, 'Drug: d08af5d4b ', fontsize=12, color='black', ha='left' ,va='top')\n",
        "plt.show()"
      ],
      "metadata": {
        "_kg_hide-input": true,
        "trusted": true,
        "id": "jgwGVij9-oBx"
      },
      "execution_count": null,
      "outputs": []
    },
    {
      "cell_type": "markdown",
      "source": [
        "Those are the outlier drugs, the drugs that were profiled more than 18 times! Next, let's check the other drugs, normally 1 drug was profiled 6 times *(2 doses x 3 treatment times)*, if a drug was profiled twice it will have 12 samples per drug_id."
      ],
      "metadata": {
        "id": "dxbPOGCQ-oBx"
      }
    },
    {
      "cell_type": "code",
      "source": [
        "drug_count=f[['drug_id']].value_counts().to_frame()\n",
        "drug_count=drug_count.rename(columns={0:'drug_count'})\n",
        "drug_count2=drug_count['drug_count'].value_counts().to_frame().reset_index()\n",
        "drug_count2=drug_count2.rename(columns={'index': 'Samples per drug', 'drug_count':'Number of Drugs'})\n",
        "drug_count2[:12]"
      ],
      "metadata": {
        "_kg_hide-input": true,
        "trusted": true,
        "id": "r7YKol9s-oBx"
      },
      "execution_count": null,
      "outputs": []
    },
    {
      "cell_type": "markdown",
      "source": [
        "**Observations:**\n",
        "* As expected, 2774 drugs out of 3700 drugs have 6 rows that correspond to 2 doses and 3 treatment times.\n",
        "* Only 64 drugs have 12 samples, I was expecting more drugs to be profiled twice.\n",
        "* Only 3 drugs have 18 sample, the drugs were profiled 3 times.\n",
        "* 196 drugs were profiled 7 times, so 1 additional sample with respect to most of the drugs, perhaps a dosage or treatment time experiment was repeated for those drugs!\n",
        "\n",
        "**My Drug_id conclusion:**\n",
        "\n",
        "I am not sure why the competition host chose some drugs to be profiled hundreds of times but the data shows that most of the drugs,exactly 2774 drug, were profiled just once (6 samples), my intuition is that those samples will not be present in the test, however, the drugs with + 18 samples were intentionally profiled 100s of times because they have some mechanism of action targets that the test set drugs have.\n",
        "\n",
        "For more info, you can check this discussion topic: [Extracting insights from Drug_ID](https://www.kaggle.com/c/lish-moa/discussion/195217).\n",
        "\n",
        "***\n",
        "# 5- Test features:\n",
        "After understanding the relationship between the features and the labels, we move on to the test set to understand the features and their relationship with the train features.\n",
        "> ## 5-1 Features:"
      ],
      "metadata": {
        "id": "EwKqs4l--oBx"
      }
    },
    {
      "cell_type": "code",
      "source": [
        "plt.style.use('seaborn')\n",
        "sns.set_style('whitegrid')\n",
        "fig = plt.figure(figsize=(15,5))\n",
        "#1 rows 2 cols\n",
        "#first row, first col\n",
        "ax1 = plt.subplot2grid((1,2),(0,0))\n",
        "sns.countplot(x='cp_type', data=b, palette='rainbow', alpha=0.75)\n",
        "plt.title('Test: Control and treated samples', fontsize=15, weight='bold')\n",
        "#first row sec col\n",
        "ax1 = plt.subplot2grid((1,2),(0,1))\n",
        "sns.countplot(x='cp_dose', data=b, palette='rainbow', alpha=0.75)\n",
        "plt.title('Test: Treatment Doses: Low and High',weight='bold', fontsize=18)\n",
        "plt.show()"
      ],
      "metadata": {
        "_kg_hide-input": true,
        "trusted": true,
        "id": "3B-dZ94t-oBx"
      },
      "execution_count": null,
      "outputs": []
    },
    {
      "cell_type": "code",
      "source": [
        "plt.figure(figsize=(13,3))\n",
        "sns.distplot( b['cp_time'], color='gold', bins=5)\n",
        "plt.title(\"Test: Treatment duration \", fontsize=15, weight='bold')\n",
        "plt.show()"
      ],
      "metadata": {
        "_kg_hide-input": true,
        "trusted": true,
        "id": "qGdIt839-oBy"
      },
      "execution_count": null,
      "outputs": []
    },
    {
      "cell_type": "markdown",
      "source": [
        "Everything seems similar to the train set:\n",
        "* The doses are equally applied.\n",
        "* Very few control samples.\n",
        "* Same treatment duration 24h, 48h and 72h.\n",
        "\n",
        "**Good news!** It seems that both train and test datasets are similar in terms of *experimental conditions.* The variation would be in the gene expression and cell viability since the samples used in the test set are different than the train set.\n",
        "\n",
        "Let's see how different are those samples!\n",
        "\n",
        "> ## 5-2 Gene expression:"
      ],
      "metadata": {
        "id": "XqPbD92j-oBy"
      }
    },
    {
      "cell_type": "code",
      "source": [
        "#Filter out just the treated samples\n",
        "treated2= b[b['cp_type']=='trt_cp']\n",
        "treated_list2 = treated2['sig_id'].to_list()\n",
        "full_tr= b[b['sig_id'].isin(treated_list2)]\n",
        "\n",
        "#Select the columns c-\n",
        "c_cols2 = [col for col in full_tr.columns if 'g-' in col]\n",
        "#Filter the columns c-\n",
        "cells2=treated2[c_cols2]\n",
        "\n",
        "plt.style.use('seaborn')\n",
        "sns.set_style('whitegrid')\n",
        "fig = plt.figure(figsize=(15,5))\n",
        "#1 rows 2 cols\n",
        "#first row, first col\n",
        "ax1 = plt.subplot2grid((1,2),(0,0))\n",
        "sns.heatmap(cells2.corr(), cmap='coolwarm', alpha=0.9)\n",
        "plt.title('Test: Gene expression correlation', fontsize=15, weight='bold')\n",
        "#first row sec col\n",
        "ax1 = plt.subplot2grid((1,2),(0,1))\n",
        "sns.heatmap(genes.corr(), cmap='coolwarm', alpha=0.9)\n",
        "plt.title('Train: Gene expression: Correlation', fontsize=15, weight='bold')\n",
        "plt.show()"
      ],
      "metadata": {
        "_kg_hide-input": true,
        "trusted": true,
        "id": "ABZEW0cT-oBy"
      },
      "execution_count": null,
      "outputs": []
    },
    {
      "cell_type": "markdown",
      "source": [
        "We can see several high positive and negative correlations between some genes, same as in the train set. However more investigation is needed to find some patterns and differences in gene expression between the train and test sets."
      ],
      "metadata": {
        "id": "ZDdCTuIP-oBy"
      }
    },
    {
      "cell_type": "markdown",
      "source": [
        "> ### Top 10 gene pairs in the test set:"
      ],
      "metadata": {
        "id": "aX8cU9eR-oBy"
      }
    },
    {
      "cell_type": "code",
      "source": [
        "#Correlation between drugs\n",
        "corre= cells2.corr()\n",
        "#Unstack the dataframe\n",
        "s = corre.unstack()\n",
        "so = s.sort_values(kind=\"quicksort\", ascending=False)\n",
        "#Create new dataframe\n",
        "so2= pd.DataFrame(so).reset_index()\n",
        "so2= so2.rename(columns={0: 'correlation', 'level_0':'Gene 1', 'level_1': 'Gene 2'})\n",
        "#Filter out the coef 1 correlation between the same drugs\n",
        "so2= so2[so2['correlation'] != 1]\n",
        "#Drop pair duplicates\n",
        "so2= so2.reset_index()\n",
        "#so2= so2.sort_values(by=['correlation'])\n",
        "pos = [1,3,5,7,9,11,13,15,17,19,21]\n",
        "so2= so2.drop(so2.index[pos])\n",
        "so2= so2.round(decimals=4)\n",
        "so2=so2.drop('index', axis=1)\n",
        "so4=so2.head(10)\n",
        "cm = sns.light_palette(\"Red\", as_cmap=True)\n",
        "s = so2.head(10).style.background_gradient(cmap=cm)\n",
        "s"
      ],
      "metadata": {
        "_kg_hide-input": true,
        "trusted": true,
        "id": "VKXa6Ex4-oBy"
      },
      "execution_count": null,
      "outputs": []
    },
    {
      "cell_type": "markdown",
      "source": [
        "**Observations:**\n",
        "* **5/10** high correlated genes are the same as in the train set *(see section 3.2).*\n",
        "* **5** new gene pairs seem to be highly correlated in the test set then in the train set.\n",
        "* This is just a quick look over the TOP10 genes. I will update this section in the future with deeper analysis.\n",
        "\n",
        "Understanding the difference between the genes correlation in the train and test sets will be crucial to determine and prevent the shake-up.\n",
        "\n",
        "> ## 5-3 Cell viability:"
      ],
      "metadata": {
        "id": "Vbyk7H9d-oBz"
      }
    },
    {
      "cell_type": "code",
      "source": [
        "#Select the columns c-\n",
        "c_cols3 = [col for col in b.columns if 'c-' in col]\n",
        "#Filter the columns c-\n",
        "cells3=treated_t[c_cols3]\n",
        "\n",
        "plt.style.use('seaborn')\n",
        "sns.set_style('whitegrid')\n",
        "fig = plt.figure(figsize=(15,5))\n",
        "#1 rows 2 cols\n",
        "#first row, first col\n",
        "ax1 = plt.subplot2grid((1,2),(0,0))\n",
        "sns.heatmap(cells3.corr(), cmap='coolwarm', alpha=0.9)\n",
        "plt.title('Test: CVB correlation', fontsize=15, weight='bold')\n",
        "#first row sec col\n",
        "ax1 = plt.subplot2grid((1,2),(0,1))\n",
        "sns.heatmap(cells.corr(), cmap='coolwarm', alpha=0.9)\n",
        "plt.title('Train: CVB correlation', fontsize=15, weight='bold')\n",
        "plt.show()"
      ],
      "metadata": {
        "_kg_hide-input": true,
        "trusted": true,
        "id": "O8YNaDjJ-oBz"
      },
      "execution_count": null,
      "outputs": []
    },
    {
      "cell_type": "markdown",
      "source": [
        "Now, we check the high correlation cells and comapre them to the train test."
      ],
      "metadata": {
        "id": "h7Nlr3qw-oBz"
      }
    },
    {
      "cell_type": "code",
      "source": [
        "corrs(cells3, 'Cell', 'Cell 2', rows=10)"
      ],
      "metadata": {
        "_kg_hide-input": true,
        "trusted": true,
        "id": "_Wo7bdMF-oBz"
      },
      "execution_count": null,
      "outputs": []
    },
    {
      "cell_type": "markdown",
      "source": [
        "Findings based on the top 10 cell pairs:\n",
        "* 4377 cell pairs have +0.8 correlation in comparison with the 4187 in the train set.\n",
        "* 3/10 cell pairs in the test set are not present in the train set.\n",
        "* The order of the cells correlation is different in the test set!"
      ],
      "metadata": {
        "id": "uHbTlCMC-oBz"
      }
    },
    {
      "cell_type": "markdown",
      "source": [
        "***\n",
        "# References:\n",
        "\n",
        "[1] Viability assay https://en.wikipedia.org/wiki/Viability_assay\n",
        "\n",
        "[2] COVID-19 viral proteins identification https://www.kaggle.com/amiiiney/covid-19-proteins-identification-with-biopython\n",
        "\n",
        "[3] Gene expression level https://www.sciencedirect.com/topics/biochemistry-genetics-and-molecular-biology/gene-expression-level\n",
        "\n",
        "[4] Image credit: https://www.labiotech.eu/cancer/forx-therapeutics-cancer-treatment/"
      ],
      "metadata": {
        "id": "MEqy4QxF-oBz"
      }
    }
  ]
}